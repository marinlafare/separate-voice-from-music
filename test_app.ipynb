{
 "cells": [
  {
   "cell_type": "markdown",
   "id": "44655b54-4818-481e-8e07-8b3b46182d26",
   "metadata": {},
   "source": [
    "# Requirements"
   ]
  },
  {
   "cell_type": "code",
   "execution_count": 1,
   "id": "74c5c18a-4559-42b2-be3c-4fe44bb48ba5",
   "metadata": {},
   "outputs": [],
   "source": [
    "import os\n",
    "import ffmpeg\n",
    "import string\n",
    "from spleeter.separator import Separator"
   ]
  },
  {
   "cell_type": "markdown",
   "id": "013462e7-8fa4-4503-8ea2-fd301f75b5bd",
   "metadata": {},
   "source": [
    "# Set input folder and desire encode for result"
   ]
  },
  {
   "cell_type": "code",
   "execution_count": 2,
   "id": "62627e44-f5c5-495d-b15a-13430f1173bc",
   "metadata": {},
   "outputs": [],
   "source": [
    "AUDIOS_URL = 'audio_files'\n",
    "encoder = 'mp3'\n",
    "songs = os.listdir(AUDIOS_URL)"
   ]
  },
  {
   "cell_type": "markdown",
   "id": "510939ac-8051-48a9-b8dc-b4c26517e1fc",
   "metadata": {},
   "source": [
    "# check the audio files to separate:\n",
    "\n",
    "#### (sometimes the title has unallowed characters, be careful)"
   ]
  },
  {
   "cell_type": "code",
   "execution_count": 3,
   "id": "e559a31d-bb60-4590-932a-cd78f2c5dc40",
   "metadata": {},
   "outputs": [
    {
     "data": {
      "text/plain": [
       "['Can_she_excuse_my_wrongs_-_John_Dowland_(1563-1626)_-_Mnestrel.mp3',\n",
       " 'Che_si_pu_fare_-_Barbara_Strozzi_(16191677)_-_Mnestrel.mp3']"
      ]
     },
     "execution_count": 3,
     "metadata": {},
     "output_type": "execute_result"
    }
   ],
   "source": [
    "os.listdir(AUDIOS_URL)"
   ]
  },
  {
   "cell_type": "markdown",
   "id": "48022f4f-09e4-4e09-9054-daa215ac74aa",
   "metadata": {},
   "source": [
    "### Let's do one song"
   ]
  },
  {
   "cell_type": "code",
   "execution_count": 4,
   "id": "cf6242e9-f78a-48fa-b0e2-45bef3d8c10c",
   "metadata": {},
   "outputs": [
    {
     "data": {
      "text/plain": [
       "'audio_files\\\\Can_she_excuse_my_wrongs_-_John_Dowland_(1563-1626)_-_Mnestrel.mp3'"
      ]
     },
     "execution_count": 4,
     "metadata": {},
     "output_type": "execute_result"
    }
   ],
   "source": [
    "song_dir = os.path.join(AUDIOS_URL,songs[0])\n",
    "song_dir"
   ]
  },
  {
   "cell_type": "markdown",
   "id": "28d06f19-0c49-43b8-9e27-3145706cc71d",
   "metadata": {},
   "source": [
    "# Separate one song"
   ]
  },
  {
   "cell_type": "markdown",
   "id": "b3cce4c7-7449-4777-9906-3d02765b7b84",
   "metadata": {},
   "source": [
    "### the function"
   ]
  },
  {
   "cell_type": "code",
   "execution_count": 5,
   "id": "a050ad8e-3d84-4477-97ff-e53f83c80cba",
   "metadata": {},
   "outputs": [],
   "source": [
    "def separate_voice(audio_file, encoder, stems = 2):\n",
    "    separator = Separator(f\"spleeter:{stems}stems\")\n",
    "    separator.separate_to_file(audio_file,\n",
    "                           'data/temp',\n",
    "                           codec=encoder,\n",
    "                           filename_format='{filename}/{instrument}.{codec}')"
   ]
  },
  {
   "cell_type": "code",
   "execution_count": 6,
   "id": "45c66af2-1b1c-4dd7-91f0-583a9af60cdf",
   "metadata": {},
   "outputs": [
    {
     "name": "stdout",
     "output_type": "stream",
     "text": [
      "INFO:tensorflow:Using config: {'_model_dir': 'pretrained_models\\\\2stems', '_tf_random_seed': None, '_save_summary_steps': 100, '_save_checkpoints_steps': None, '_save_checkpoints_secs': 600, '_session_config': gpu_options {\n",
      "  per_process_gpu_memory_fraction: 0.7\n",
      "}\n",
      ", '_keep_checkpoint_max': 5, '_keep_checkpoint_every_n_hours': 10000, '_log_step_count_steps': 100, '_train_distribute': None, '_device_fn': None, '_protocol': None, '_eval_distribute': None, '_experimental_distribute': None, '_experimental_max_worker_delay_secs': None, '_session_creation_timeout_secs': 7200, '_checkpoint_save_graph_def': True, '_service': None, '_cluster_spec': ClusterSpec({}), '_task_type': 'worker', '_task_id': 0, '_global_id_in_cluster': 0, '_master': '', '_evaluation_master': '', '_is_chief': True, '_num_ps_replicas': 0, '_num_worker_replicas': 1}\n",
      "WARNING:tensorflow:From C:\\Users\\chompu\\.conda\\envs\\audios\\lib\\site-packages\\spleeter\\separator.py:146: calling DatasetV2.from_generator (from tensorflow.python.data.ops.dataset_ops) with output_types is deprecated and will be removed in a future version.\n",
      "Instructions for updating:\n",
      "Use output_signature instead\n",
      "WARNING:tensorflow:From C:\\Users\\chompu\\.conda\\envs\\audios\\lib\\site-packages\\spleeter\\separator.py:146: calling DatasetV2.from_generator (from tensorflow.python.data.ops.dataset_ops) with output_shapes is deprecated and will be removed in a future version.\n",
      "Instructions for updating:\n",
      "Use output_signature instead\n",
      "INFO:tensorflow:Calling model_fn.\n",
      "INFO:tensorflow:Apply unet for vocals_spectrogram\n",
      "WARNING:tensorflow:From C:\\Users\\chompu\\.conda\\envs\\audios\\lib\\site-packages\\keras\\layers\\normalization\\batch_normalization.py:514: _colocate_with (from tensorflow.python.framework.ops) is deprecated and will be removed in a future version.\n",
      "Instructions for updating:\n",
      "Colocations handled automatically by placer.\n",
      "INFO:tensorflow:Apply unet for accompaniment_spectrogram\n",
      "INFO:tensorflow:Done calling model_fn.\n",
      "INFO:tensorflow:Graph was finalized.\n",
      "INFO:tensorflow:Restoring parameters from pretrained_models\\2stems\\model\n",
      "INFO:tensorflow:Running local_init_op.\n",
      "INFO:tensorflow:Done running local_init_op.\n"
     ]
    }
   ],
   "source": [
    "separate_voice(song_dir, encoder)"
   ]
  },
  {
   "attachments": {
    "9d0ef062-ef48-42db-9dd7-8d0c5a99d6e2.png": {
     "image/png": "[encoded data removed]"
    }
   },
   "cell_type": "markdown",
   "id": "829e66a9-4ec4-4677-854e-d4bae8e680fc",
   "metadata": {},
   "source": [
    "### This will create a folder named as the song\n",
    "\n",
    "![image.png](attachment:9d0ef062-ef48-42db-9dd7-8d0c5a99d6e2.png)"
   ]
  },
  {
   "attachments": {
    "d0b4053e-d3a1-41ac-97ce-d5ad1b6c2f4f.png": {
     "image/png": "[encoded data removed]"
    }
   },
   "cell_type": "markdown",
   "id": "aa78d98d-6629-47dc-854c-88047e8b9b17",
   "metadata": {},
   "source": [
    "### And inside the files of the separated music and voice:\n",
    "\n",
    "![image.png](attachment:d0b4053e-d3a1-41ac-97ce-d5ad1b6c2f4f.png)\n",
    "\n",
    "### So the process is ready."
   ]
  },
  {
   "cell_type": "markdown",
   "id": "0f9df133-0104-4254-aeb8-cd90b23fa4b8",
   "metadata": {},
   "source": [
    "### But lets clean everything by changing the names of the results and put them in their own folders"
   ]
  },
  {
   "cell_type": "code",
   "execution_count": 7,
   "id": "353a20f2-bde6-4cfb-86da-b8525e7a30b7",
   "metadata": {},
   "outputs": [],
   "source": [
    "def clean_folders(audio_file, encoder):\n",
    "    voice = f'data/temp/{audio_file[:-4]}/vocals.{encoder}'\n",
    "    music = f'data/temp/{audio_file[:-4]}/accompaniment.{encoder}'\n",
    "    os.rename(voice, f'data/voices/{audio_file[:-4]}_vocals.{encoder}')\n",
    "    os.rename(music, f'data/music/{audio_file[:-4]}_music.{encoder}')\n",
    "    os.rmdir(f'data/temp/{audio_file[:-4]}')"
   ]
  },
  {
   "cell_type": "markdown",
   "id": "0e707a31-9ff6-4477-b739-ac51e737143f",
   "metadata": {},
   "source": [
    "### To clean we need the name of the song without the directory:"
   ]
  },
  {
   "cell_type": "code",
   "execution_count": 10,
   "id": "6b6cf112-be79-46e9-a104-1f7f260a2181",
   "metadata": {},
   "outputs": [
    {
     "data": {
      "text/plain": [
       "'Can_she_excuse_my_wrongs_-_John_Dowland_(1563-1626)_-_Mnestrel.mp3'"
      ]
     },
     "execution_count": 10,
     "metadata": {},
     "output_type": "execute_result"
    }
   ],
   "source": [
    "songs[0]"
   ]
  },
  {
   "cell_type": "code",
   "execution_count": 11,
   "id": "ba08999f-dafc-4455-8fc5-5144251c10df",
   "metadata": {},
   "outputs": [],
   "source": [
    "clean_folders(songs[0], encoder)"
   ]
  },
  {
   "attachments": {
    "14591d55-485a-44ac-afbc-1d9ffb0cc8b5.png": {
     "image/png": "[encoded data removed]"
    },
    "5a6eae7d-67c8-4af5-9ad7-edcca7dd4cf9.png": {
     "image/png": "[encoded data removed]"
    },
    "6c81b4ca-1f49-45a7-b805-dec9af640586.png": {
     "image/png": "[encoded data removed]"
    }
   },
   "cell_type": "markdown",
   "id": "a4817e95-c0cd-4659-8f5c-1a2ba373b243",
   "metadata": {},
   "source": [
    "## Now the temp folder is clean, and the voice and music are in their respective places\n",
    "\n",
    "![image.png](attachment:6c81b4ca-1f49-45a7-b805-dec9af640586.png)\n",
    "\n",
    "![image.png](attachment:14591d55-485a-44ac-afbc-1d9ffb0cc8b5.png)\n",
    "\n",
    "![image.png](attachment:5a6eae7d-67c8-4af5-9ad7-edcca7dd4cf9.png)"
   ]
  },
  {
   "cell_type": "markdown",
   "id": "98b947fc-4838-4366-ad47-8694ac005629",
   "metadata": {},
   "source": [
    "# Now let's erase the input files:"
   ]
  },
  {
   "cell_type": "code",
   "execution_count": 12,
   "id": "e30703f1-f3b5-471f-bb4d-50f1298622af",
   "metadata": {},
   "outputs": [],
   "source": [
    "def clean_audio_files():\n",
    "    for file in os.listdir(AUDIOS_URL):\n",
    "            os.remove(os.path.join(AUDIOS_URL,file))"
   ]
  },
  {
   "cell_type": "code",
   "execution_count": 13,
   "id": "c57fa0e8-b983-42c8-a025-2cdb786207c2",
   "metadata": {},
   "outputs": [],
   "source": [
    "clean_audio_files()"
   ]
  },
  {
   "attachments": {
    "f2a4cdbf-9dcb-42f9-99f8-09778a4db88d.png": {
     "image/png": "[encoded data removed]"
    }
   },
   "cell_type": "markdown",
   "id": "ae8a3c19-54e5-42e0-9295-0bdaf62ed233",
   "metadata": {},
   "source": [
    "## Now the folder with the inputs is empty:\n",
    "\n",
    "![image.png](attachment:f2a4cdbf-9dcb-42f9-99f8-09778a4db88d.png)"
   ]
  },
  {
   "cell_type": "markdown",
   "id": "713c6377-61d8-41ed-b68f-76b47dc04d9a",
   "metadata": {},
   "source": [
    "# And that's all enjoy your musicless voices and voiceless music"
   ]
  },
  {
   "cell_type": "code",
   "execution_count": null,
   "id": "c68004d6-b6c1-4762-ae81-a5a2d95c1076",
   "metadata": {},
   "outputs": [],
   "source": []
  },
  {
   "cell_type": "code",
   "execution_count": null,
   "id": "57eea374-e02b-4ec1-8108-f5e43ec779ba",
   "metadata": {},
   "outputs": [],
   "source": []
  },
  {
   "cell_type": "code",
   "execution_count": null,
   "id": "70fb1b01-b29f-4af7-ab05-4606e547d417",
   "metadata": {},
   "outputs": [],
   "source": []
  },
  {
   "cell_type": "code",
   "execution_count": null,
   "id": "8c7306c4-4814-4c4f-a90d-4bd1c521cab2",
   "metadata": {},
   "outputs": [],
   "source": []
  },
  {
   "cell_type": "code",
   "execution_count": null,
   "id": "7b1dffd1-b536-47b3-97c0-5e2b6e69ab9e",
   "metadata": {},
   "outputs": [],
   "source": []
  },
  {
   "cell_type": "code",
   "execution_count": null,
   "id": "f792e9d8-fcf6-481e-8776-52f93e7e0129",
   "metadata": {},
   "outputs": [],
   "source": []
  },
  {
   "cell_type": "code",
   "execution_count": null,
   "id": "d7ca6f03-6150-49dc-b9e6-e5e9317f59d2",
   "metadata": {},
   "outputs": [],
   "source": []
  },
  {
   "cell_type": "code",
   "execution_count": null,
   "id": "295756e7-a4c1-40cc-a764-ad06082e7b02",
   "metadata": {},
   "outputs": [],
   "source": []
  },
  {
   "cell_type": "code",
   "execution_count": null,
   "id": "a9d35558-9211-46d8-8acc-ab921b1ae642",
   "metadata": {},
   "outputs": [],
   "source": []
  }
 ],
 "metadata": {
  "kernelspec": {
   "display_name": "audios",
   "language": "python",
   "name": "audios"
  },
  "language_info": {
   "codemirror_mode": {
    "name": "ipython",
    "version": 3
   },
   "file_extension": ".py",
   "mimetype": "text/x-python",
   "name": "python",
   "nbconvert_exporter": "python",
   "pygments_lexer": "ipython3",
   "version": "3.10.14"
  }
 },
 "nbformat": 4,
 "nbformat_minor": 5
}
